{
  "cells": [
    {
      "cell_type": "markdown",
      "id": "49866b5f",
      "metadata": {
        "id": "49866b5f",
        "papermill": {
          "duration": 0.00711,
          "end_time": "2025-02-03T17:46:52.172093",
          "exception": false,
          "start_time": "2025-02-03T17:46:52.164983",
          "status": "completed"
        },
        "tags": []
      },
      "source": [
        "# ***Imports***"
      ]
    },
    {
      "cell_type": "code",
      "execution_count": 100,
      "id": "2dff1518",
      "metadata": {
        "execution": {
          "iopub.execute_input": "2025-02-03T17:46:52.186028Z",
          "iopub.status.busy": "2025-02-03T17:46:52.185803Z",
          "iopub.status.idle": "2025-02-03T17:46:55.258536Z",
          "shell.execute_reply": "2025-02-03T17:46:55.257650Z"
        },
        "id": "2dff1518",
        "papermill": {
          "duration": 3.081969,
          "end_time": "2025-02-03T17:46:55.260657",
          "exception": false,
          "start_time": "2025-02-03T17:46:52.178688",
          "status": "completed"
        },
        "tags": []
      },
      "outputs": [],
      "source": [
        "import torch\n",
        "import torch.nn as nn\n",
        "import torch.nn.functional as F\n",
        "import torch.optim as optim\n",
        "from torch.utils.data import DataLoader\n",
        "\n",
        "from torchvision import datasets, transforms\n",
        "\n",
        "import matplotlib.pyplot as plt"
      ]
    },
    {
      "cell_type": "code",
      "execution_count": 101,
      "id": "c6bafc57",
      "metadata": {
        "colab": {
          "base_uri": "https://localhost:8080/"
        },
        "execution": {
          "iopub.execute_input": "2025-02-03T17:46:55.285613Z",
          "iopub.status.busy": "2025-02-03T17:46:55.285313Z",
          "iopub.status.idle": "2025-02-03T17:46:55.347408Z",
          "shell.execute_reply": "2025-02-03T17:46:55.346739Z"
        },
        "id": "c6bafc57",
        "outputId": "97a88019-b343-4e11-e94b-b8b1c52c9437",
        "papermill": {
          "duration": 0.077153,
          "end_time": "2025-02-03T17:46:55.349185",
          "exception": false,
          "start_time": "2025-02-03T17:46:55.272032",
          "status": "completed"
        },
        "tags": []
      },
      "outputs": [
        {
          "name": "stdout",
          "output_type": "stream",
          "text": [
            "Using device: cuda\n"
          ]
        }
      ],
      "source": [
        "DEVICE = torch.device(\"cuda\" if torch.cuda.is_available() else \"cpu\")\n",
        "BATCH_SIZE = 256\n",
        "EPOCHS = 20\n",
        "\n",
        "print(\"Using device:\", DEVICE)"
      ]
    },
    {
      "cell_type": "markdown",
      "id": "65383f2a",
      "metadata": {
        "id": "65383f2a",
        "papermill": {
          "duration": 0.010666,
          "end_time": "2025-02-03T17:46:55.370459",
          "exception": false,
          "start_time": "2025-02-03T17:46:55.359793",
          "status": "completed"
        },
        "tags": []
      },
      "source": [
        "# ***Helper Functions***"
      ]
    },
    {
      "cell_type": "code",
      "execution_count": 102,
      "id": "33ec2021",
      "metadata": {
        "execution": {
          "iopub.execute_input": "2025-02-03T17:46:55.392378Z",
          "iopub.status.busy": "2025-02-03T17:46:55.392029Z",
          "iopub.status.idle": "2025-02-03T17:46:55.398762Z",
          "shell.execute_reply": "2025-02-03T17:46:55.398082Z"
        },
        "id": "33ec2021",
        "papermill": {
          "duration": 0.018951,
          "end_time": "2025-02-03T17:46:55.400260",
          "exception": false,
          "start_time": "2025-02-03T17:46:55.381309",
          "status": "completed"
        },
        "tags": []
      },
      "outputs": [],
      "source": [
        "def load_dataset(dataset_name):\n",
        "    if dataset_name == 'mnist':\n",
        "        transform = transforms.Compose([transforms.ToTensor(), transforms.Normalize((0.5,), (0.5,)), transforms.Lambda(lambda x: x.view(-1))])\n",
        "        train_dataset = datasets.MNIST('./data', train=True, download=True, transform=transform)\n",
        "        test_dataset = datasets.MNIST('./data', train=False, download=True, transform=transform)\n",
        "\n",
        "\n",
        "    train_loader = DataLoader(train_dataset, batch_size=BATCH_SIZE, shuffle=True)\n",
        "    test_loader = DataLoader(test_dataset, batch_size=BATCH_SIZE, shuffle=False)\n",
        "\n",
        "    return train_loader, test_loader"
      ]
    },
    {
      "cell_type": "code",
      "execution_count": 103,
      "id": "bb4856ff",
      "metadata": {
        "execution": {
          "iopub.execute_input": "2025-02-03T17:46:55.445277Z",
          "iopub.status.busy": "2025-02-03T17:46:55.444511Z",
          "iopub.status.idle": "2025-02-03T17:46:55.455180Z",
          "shell.execute_reply": "2025-02-03T17:46:55.454106Z"
        },
        "id": "bb4856ff",
        "papermill": {
          "duration": 0.022148,
          "end_time": "2025-02-03T17:46:55.456797",
          "exception": false,
          "start_time": "2025-02-03T17:46:55.434649",
          "status": "completed"
        },
        "tags": []
      },
      "outputs": [],
      "source": [
        "class AutoEncoder(nn.Module):\n",
        "    def __init__(self, size):\n",
        "        super(AutoEncoder, self).__init__()\n",
        "        self.ec1 = nn.Linear(size, size//2)\n",
        "        self.ec2 = nn.Linear(size//2, size//4)\n",
        "\n",
        "        self.dc1 = nn.Linear(size//4, size//2)\n",
        "        self.dc2 = nn.Linear(size//2, size)\n",
        "\n",
        "        self.activation = nn.LeakyReLU(0.2)\n",
        "\n",
        "        self.activation_tanh = nn.Tanh()\n",
        "\n",
        "    def forward(self, x):\n",
        "        x = self.activation(self.ec1(x))\n",
        "        x = self.activation(self.ec2(x))\n",
        "        x = self.activation(self.dc1(x))\n",
        "        recon = self.activation_tanh(self.dc2(x))\n",
        "\n",
        "        return recon"
      ]
    },
    {
      "cell_type": "code",
      "execution_count": 104,
      "id": "8af16c71",
      "metadata": {
        "execution": {
          "iopub.execute_input": "2025-02-03T17:46:55.474848Z",
          "iopub.status.busy": "2025-02-03T17:46:55.474414Z",
          "iopub.status.idle": "2025-02-03T17:46:55.482585Z",
          "shell.execute_reply": "2025-02-03T17:46:55.481664Z"
        },
        "id": "8af16c71",
        "papermill": {
          "duration": 0.01921,
          "end_time": "2025-02-03T17:46:55.484158",
          "exception": false,
          "start_time": "2025-02-03T17:46:55.464948",
          "status": "completed"
        },
        "tags": []
      },
      "outputs": [],
      "source": [
        "def train(model, data_loader, optimizer, criterion):\n",
        "    model.train()\n",
        "    running_loss = 0.0\n",
        "    for batch_idx, (data, _) in enumerate(data_loader):\n",
        "        data = data.to(DEVICE)\n",
        "        optimizer.zero_grad()\n",
        "        output = model(data)\n",
        "        loss = criterion(output, data)\n",
        "        loss.backward()\n",
        "        optimizer.step()\n",
        "\n",
        "        running_loss += loss.item()\n",
        "\n",
        "    epoch_loss = running_loss / len(data_loader.dataset)\n",
        "\n",
        "    return epoch_loss"
      ]
    },
    {
      "cell_type": "code",
      "execution_count": 105,
      "id": "1f27a9ca",
      "metadata": {
        "execution": {
          "iopub.execute_input": "2025-02-03T17:46:55.502497Z",
          "iopub.status.busy": "2025-02-03T17:46:55.502059Z",
          "iopub.status.idle": "2025-02-03T17:46:55.509922Z",
          "shell.execute_reply": "2025-02-03T17:46:55.508996Z"
        },
        "id": "1f27a9ca",
        "papermill": {
          "duration": 0.018903,
          "end_time": "2025-02-03T17:46:55.511460",
          "exception": false,
          "start_time": "2025-02-03T17:46:55.492557",
          "status": "completed"
        },
        "tags": []
      },
      "outputs": [],
      "source": [
        "def test(model, data_loader, criterion):\n",
        "    model.eval()\n",
        "    running_loss = 0.0\n",
        "    with torch.no_grad():\n",
        "        for data, _ in data_loader:\n",
        "            data = data.to(DEVICE)\n",
        "            output = model(data)\n",
        "            loss = criterion(output, data)\n",
        "\n",
        "            running_loss += loss.item()\n",
        "\n",
        "    epoch_loss = running_loss / len(data_loader.dataset)\n",
        "\n",
        "    return epoch_loss"
      ]
    },
    {
      "cell_type": "code",
      "execution_count": 106,
      "id": "26c24e59",
      "metadata": {
        "execution": {
          "iopub.execute_input": "2025-02-03T17:46:55.528615Z",
          "iopub.status.busy": "2025-02-03T17:46:55.528096Z",
          "iopub.status.idle": "2025-02-03T17:46:55.537937Z",
          "shell.execute_reply": "2025-02-03T17:46:55.537014Z"
        },
        "id": "26c24e59",
        "papermill": {
          "duration": 0.020329,
          "end_time": "2025-02-03T17:46:55.539553",
          "exception": false,
          "start_time": "2025-02-03T17:46:55.519224",
          "status": "completed"
        },
        "tags": []
      },
      "outputs": [],
      "source": [
        "def train_model(model, train_loader, test_loader, optimizer, criterion, epochs):\n",
        "    best_test_loss = 1e+6\n",
        "\n",
        "    metrics = {\n",
        "        'train_loss': [],\n",
        "        'test_loss': [],\n",
        "    }\n",
        "\n",
        "    metric_best = {\n",
        "        'train_loss': 0.0,\n",
        "        'test_loss': 0.0,\n",
        "    }\n",
        "\n",
        "    for epoch in range(epochs):\n",
        "        train_loss = train(model, train_loader, optimizer, criterion)\n",
        "        test_loss = test(model, test_loader, criterion)\n",
        "\n",
        "        if test_loss < best_test_loss:\n",
        "            best_test_acc = test_loss\n",
        "            metric_best['train_loss'] = train_loss\n",
        "            metric_best['test_loss'] = test_loss\n",
        "\n",
        "        metrics['train_loss'].append(train_loss)\n",
        "        metrics['test_loss'].append(test_loss)\n",
        "\n",
        "        print(f'Epoch {epoch+1}/{epochs}')\n",
        "        print(f'Train Loss: {train_loss:.4f}, Test Loss: {test_loss:.4f}\\n')\n",
        "\n",
        "    return metrics, metric_best"
      ]
    },
    {
      "cell_type": "code",
      "execution_count": 107,
      "id": "060f312d",
      "metadata": {
        "execution": {
          "iopub.execute_input": "2025-02-03T17:46:55.555824Z",
          "iopub.status.busy": "2025-02-03T17:46:55.555401Z",
          "iopub.status.idle": "2025-02-03T17:46:55.562719Z",
          "shell.execute_reply": "2025-02-03T17:46:55.561802Z"
        },
        "id": "060f312d",
        "papermill": {
          "duration": 0.01737,
          "end_time": "2025-02-03T17:46:55.564357",
          "exception": false,
          "start_time": "2025-02-03T17:46:55.546987",
          "status": "completed"
        },
        "tags": []
      },
      "outputs": [],
      "source": [
        "def plot_metric(metrics):\n",
        "    plt.plot(metrics['train_loss'], label='Train Loss')\n",
        "    plt.plot(metrics['test_loss'], label='Test Loss')\n",
        "    plt.xlabel('Epoch')\n",
        "    plt.ylabel('Loss')\n",
        "    plt.legend()\n",
        "\n",
        "    plt.show()"
      ]
    },
    {
      "cell_type": "code",
      "execution_count": 108,
      "id": "QLAa9BkYMvRw",
      "metadata": {
        "id": "QLAa9BkYMvRw"
      },
      "outputs": [],
      "source": [
        "def plot_reconstruction(model, data_loader):\n",
        "    model.eval()\n",
        "    data_each_class = {}\n",
        "\n",
        "    with torch.no_grad():\n",
        "        for data, target in data_loader:\n",
        "            data = data.to(DEVICE)\n",
        "            output = model(data)\n",
        "\n",
        "            for i in range(len(data)):\n",
        "                if target[i].item() not in data_each_class:\n",
        "                    data_each_class[target[i].item()] = (data[i].cpu().numpy(), output[i].cpu().numpy())\n",
        "\n",
        "    fig, axs = plt.subplots(2, 10, figsize=(20, 5))\n",
        "    fig.suptitle(\"Original vs Reconstructed Images\")\n",
        "\n",
        "    for i in range(10):\n",
        "        axs[0, i].imshow(data_each_class[i][0].reshape(28, 28), cmap='gray')\n",
        "        axs[0, i].axis('off')\n",
        "        axs[0, i].set_title(f\"Digit {i}\")\n",
        "\n",
        "        axs[1, i].imshow(data_each_class[i][1].reshape(28, 28), cmap='gray')\n",
        "        axs[1, i].axis('off')\n",
        "\n",
        "    plt.show()"
      ]
    },
    {
      "cell_type": "code",
      "execution_count": 109,
      "id": "878f7e59",
      "metadata": {
        "execution": {
          "iopub.execute_input": "2025-02-03T17:46:55.580826Z",
          "iopub.status.busy": "2025-02-03T17:46:55.580390Z",
          "iopub.status.idle": "2025-02-03T17:46:55.589226Z",
          "shell.execute_reply": "2025-02-03T17:46:55.588249Z"
        },
        "id": "878f7e59",
        "papermill": {
          "duration": 0.019067,
          "end_time": "2025-02-03T17:46:55.590855",
          "exception": false,
          "start_time": "2025-02-03T17:46:55.571788",
          "status": "completed"
        },
        "tags": []
      },
      "outputs": [],
      "source": [
        "def main():\n",
        "    train_loader, test_loader = load_dataset('mnist')\n",
        "    model = AutoEncoder(size=28*28).to(DEVICE)\n",
        "    optimizer = optim.Adam(model.parameters(), lr=0.001)\n",
        "\n",
        "    criterion = nn.MSELoss()\n",
        "\n",
        "    metrics, metric_best = train_model(model, train_loader, test_loader, optimizer, criterion, EPOCHS)\n",
        "    plot_metric(metrics)\n",
        "\n",
        "    print(\"\\nBEST METRIC\")\n",
        "    print(f'Train Loss: {metric_best[\"train_loss\"]:.4f}, Test Loss: {metric_best[\"test_loss\"]:.4f}')\n",
        "\n",
        "    return model, test_loader"
      ]
    },
    {
      "cell_type": "code",
      "execution_count": 110,
      "id": "kXwA_SDyHmxo",
      "metadata": {
        "colab": {
          "base_uri": "https://localhost:8080/",
          "height": 1000
        },
        "id": "kXwA_SDyHmxo",
        "outputId": "db588a95-17ee-407e-afb7-84e86c25d2e0"
      },
      "outputs": [
        {
          "name": "stdout",
          "output_type": "stream",
          "text": [
            "Epoch 1/20\n",
            "Train Loss: 0.0005, Test Loss: 0.0002\n",
            "\n",
            "Epoch 2/20\n",
            "Train Loss: 0.0001, Test Loss: 0.0001\n",
            "\n",
            "Epoch 3/20\n",
            "Train Loss: 0.0001, Test Loss: 0.0001\n",
            "\n",
            "Epoch 4/20\n",
            "Train Loss: 0.0001, Test Loss: 0.0001\n",
            "\n",
            "Epoch 5/20\n",
            "Train Loss: 0.0001, Test Loss: 0.0001\n",
            "\n",
            "Epoch 6/20\n",
            "Train Loss: 0.0001, Test Loss: 0.0001\n",
            "\n",
            "Epoch 7/20\n",
            "Train Loss: 0.0001, Test Loss: 0.0000\n",
            "\n",
            "Epoch 8/20\n",
            "Train Loss: 0.0000, Test Loss: 0.0000\n",
            "\n",
            "Epoch 9/20\n",
            "Train Loss: 0.0000, Test Loss: 0.0000\n",
            "\n",
            "Epoch 10/20\n",
            "Train Loss: 0.0000, Test Loss: 0.0000\n",
            "\n",
            "Epoch 11/20\n",
            "Train Loss: 0.0000, Test Loss: 0.0000\n",
            "\n",
            "Epoch 12/20\n",
            "Train Loss: 0.0000, Test Loss: 0.0000\n",
            "\n",
            "Epoch 13/20\n",
            "Train Loss: 0.0000, Test Loss: 0.0000\n",
            "\n",
            "Epoch 14/20\n",
            "Train Loss: 0.0000, Test Loss: 0.0000\n",
            "\n",
            "Epoch 15/20\n",
            "Train Loss: 0.0000, Test Loss: 0.0000\n",
            "\n",
            "Epoch 16/20\n",
            "Train Loss: 0.0000, Test Loss: 0.0000\n",
            "\n",
            "Epoch 17/20\n",
            "Train Loss: 0.0000, Test Loss: 0.0000\n",
            "\n",
            "Epoch 18/20\n",
            "Train Loss: 0.0000, Test Loss: 0.0000\n",
            "\n",
            "Epoch 19/20\n",
            "Train Loss: 0.0000, Test Loss: 0.0000\n",
            "\n",
            "Epoch 20/20\n",
            "Train Loss: 0.0000, Test Loss: 0.0000\n",
            "\n"
          ]
        },
        {
          "data": {
            "image/png": "[encoded data removed]",
            "text/plain": [
              "<Figure size 640x480 with 1 Axes>"
            ]
          },
          "metadata": {},
          "output_type": "display_data"
        },
        {
          "name": "stdout",
          "output_type": "stream",
          "text": [
            "\n",
            "BEST METRIC\n",
            "Train Loss: 0.0000, Test Loss: 0.0000\n"
          ]
        }
      ],
      "source": [
        "model, test_loader = main()"
      ]
    },
    {
      "cell_type": "code",
      "execution_count": 111,
      "id": "pA2-E1a2Lgko",
      "metadata": {
        "colab": {
          "base_uri": "https://localhost:8080/",
          "height": 450
        },
        "id": "pA2-E1a2Lgko",
        "outputId": "11cfe07f-72f2-4250-a2c0-f64e3aa4c5d2"
      },
      "outputs": [
        {
          "data": {
            "image/png": "[encoded data removed]",
            "text/plain": [
              "<Figure size 2000x500 with 20 Axes>"
            ]
          },
          "metadata": {},
          "output_type": "display_data"
        }
      ],
      "source": [
        "plot_reconstruction(model, test_loader)"
      ]
    }
  ],
  "metadata": {
    "accelerator": "GPU",
    "colab": {
      "gpuType": "T4",
      "provenance": []
    },
    "kernelspec": {
      "display_name": "Python 3",
      "name": "python3"
    },
    "language_info": {
      "codemirror_mode": {
        "name": "ipython",
        "version": 3
      },
      "file_extension": ".py",
      "mimetype": "text/x-python",
      "name": "python",
      "nbconvert_exporter": "python",
      "pygments_lexer": "ipython3",
      "version": "3.12.2"
    },
    "papermill": {
      "default_parameters": {},
      "duration": 10123.162135,
      "end_time": "2025-02-03T20:35:34.351429",
      "environment_variables": {},
      "exception": null,
      "input_path": "Assgn_MLP.ipynb",
      "output_path": "Assgn_MLP_out.ipynb",
      "parameters": {},
      "start_time": "2025-02-03T17:46:51.189294",
      "version": "2.6.0"
    }
  },
  "nbformat": 4,
  "nbformat_minor": 5
}
