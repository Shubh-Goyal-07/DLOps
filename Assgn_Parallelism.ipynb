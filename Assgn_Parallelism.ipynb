{
 "cells": [
  {
   "cell_type": "code",
   "execution_count": 1,
   "metadata": {},
   "outputs": [],
   "source": [
    "import torch\n",
    "import torch.nn as nn\n",
    "import torch.optim as optim\n",
    "from torch.utils.data import DataLoader, TensorDataset\n",
    "import time"
   ]
  },
  {
   "cell_type": "code",
   "execution_count": 13,
   "metadata": {},
   "outputs": [],
   "source": [
    "input_size = 512\n",
    "hidden_size = 1024\n",
    "output_size = 10\n",
    "num_samples = 10000\n",
    "batch_size = 512\n",
    "epochs = 5\n",
    "\n",
    "learning_rate = 0.001\n",
    "criterion = nn.CrossEntropyLoss()"
   ]
  },
  {
   "cell_type": "code",
   "execution_count": 14,
   "metadata": {},
   "outputs": [],
   "source": [
    "X = torch.randn(num_samples, input_size)\n",
    "y = torch.randint(0, output_size, (num_samples,))\n",
    "\n",
    "dataset = TensorDataset(X, y)\n",
    "dataloader = DataLoader(dataset, batch_size=batch_size, shuffle=True)"
   ]
  },
  {
   "cell_type": "code",
   "execution_count": 15,
   "metadata": {},
   "outputs": [],
   "source": [
    "class NN(nn.Module):\n",
    "    def __init__(self):\n",
    "        super().__init__()\n",
    "        self.layers = nn.Sequential(\n",
    "            nn.Linear(input_size, hidden_size),\n",
    "            nn.ReLU(),\n",
    "            nn.Linear(hidden_size, hidden_size),\n",
    "            nn.ReLU(),\n",
    "            nn.Linear(hidden_size, hidden_size),\n",
    "            nn.ReLU(),\n",
    "            nn.Linear(hidden_size, output_size)\n",
    "        )\n",
    "\n",
    "    def forward(self, x):\n",
    "        return self.layers(x)\n",
    "\n",
    "\n",
    "class ModelParallelNN(nn.Module):\n",
    "    def __init__(self):\n",
    "        super().__init__()\n",
    "        self.layers1 = nn.Sequential(\n",
    "            nn.Linear(input_size, hidden_size),\n",
    "            nn.ReLU(),\n",
    "            nn.Linear(hidden_size, hidden_size),\n",
    "            nn.ReLU()\n",
    "        ).to('cuda:0')\n",
    "\n",
    "        self.layers2 = nn.Sequential(\n",
    "            nn.Linear(hidden_size, hidden_size),\n",
    "            nn.ReLU(),\n",
    "            nn.Linear(hidden_size, output_size)\n",
    "        ).to('cuda:1')\n",
    "\n",
    "    def forward(self, x):\n",
    "        x = x.to('cuda:0')\n",
    "        x = self.layers1(x)\n",
    "        x = x.to('cuda:1')\n",
    "        x = self.layers2(x)\n",
    "        return x"
   ]
  },
  {
   "cell_type": "code",
   "execution_count": 24,
   "metadata": {},
   "outputs": [],
   "source": [
    "def train_model(model, dataloader, device):\n",
    "    model.to(device)\n",
    "    optimizer = optim.Adam(model.parameters(), lr=learning_rate)\n",
    "    model.train()\n",
    "    start_time = time.time()\n",
    "\n",
    "    for epoch in range(epochs):\n",
    "        print(f\"Epoch {epoch+1}/{epochs}\")\n",
    "        epoch_loss = 0\n",
    "        for batch_x, batch_y in dataloader:\n",
    "            batch_x, batch_y = batch_x.to(device), batch_y.to(device)\n",
    "            optimizer.zero_grad()\n",
    "            output = model(batch_x)\n",
    "            loss = criterion(output, batch_y)\n",
    "            loss.backward()\n",
    "            optimizer.step()\n",
    "            epoch_loss += loss.item()\n",
    "\n",
    "        print(f\"Loss: {epoch_loss / len(dataloader)}\")\n",
    "    return time.time() - start_time"
   ]
  },
  {
   "cell_type": "code",
   "execution_count": 25,
   "metadata": {},
   "outputs": [],
   "source": [
    "def train_model_parallel(model, dataloader):\n",
    "    optimizer = optim.Adam(model.parameters(), lr=learning_rate)\n",
    "    model.train()\n",
    "    start_time = time.time()\n",
    "\n",
    "    for epoch in range(epochs):\n",
    "        print(f\"Epoch {epoch+1}/{epochs}\")\n",
    "        epoch_loss = 0\n",
    "        for batch_x, batch_y in dataloader:\n",
    "            optimizer.zero_grad()\n",
    "            output = model(batch_x)\n",
    "            batch_y = batch_y.to('cuda:1')\n",
    "            loss = criterion(output, batch_y)\n",
    "            loss.backward()\n",
    "            optimizer.step()\n",
    "            epoch_loss += loss.item()\n",
    "        print(f\"Loss: {epoch_loss / len(dataloader)}\")\n",
    "    return time.time() - start_time"
   ]
  },
  {
   "cell_type": "code",
   "execution_count": null,
   "metadata": {},
   "outputs": [
    {
     "name": "stdout",
     "output_type": "stream",
     "text": [
      "Using device: cuda:0\n",
      "Training on a single GPU...\n",
      "Epoch 1/5\n",
      "Loss: 2.3075669527053835\n",
      "Epoch 2/5\n",
      "Loss: 2.2551753759384154\n",
      "Epoch 3/5\n",
      "Loss: 2.014691323041916\n",
      "Epoch 4/5\n",
      "Loss: 1.5095293402671814\n",
      "Epoch 5/5\n",
      "Loss: 0.6876625180244446\n"
     ]
    }
   ],
   "source": [
    "device = torch.device(\"cuda:0\" if torch.cuda.is_available() else \"cpu\")\n",
    "print(f\"Using device: {device}\")\n",
    "\n",
    "print(\"Training on a single GPU...\")\n",
    "model_single = NN()\n",
    "time_single = train_model(model_single, dataloader, device)"
   ]
  },
  {
   "cell_type": "code",
   "execution_count": 27,
   "metadata": {},
   "outputs": [
    {
     "name": "stdout",
     "output_type": "stream",
     "text": [
      "Training with model parallelism...\n",
      "Epoch 1/5\n",
      "Loss: 2.3064645171165465\n",
      "Epoch 2/5\n",
      "Loss: 2.235544431209564\n",
      "Epoch 3/5\n",
      "Loss: 1.9499459862709045\n",
      "Epoch 4/5\n",
      "Loss: 1.3909866333007812\n",
      "Epoch 5/5\n",
      "Loss: 0.5930090069770813\n"
     ]
    }
   ],
   "source": [
    "print(\"Training with model parallelism...\")\n",
    "model_mp = ModelParallelNN()\n",
    "time_mp = train_model_parallel(model_mp, dataloader)"
   ]
  },
  {
   "cell_type": "code",
   "execution_count": 28,
   "metadata": {},
   "outputs": [
    {
     "name": "stdout",
     "output_type": "stream",
     "text": [
      "Training with data parallelism...\n",
      "Epoch 1/5\n",
      "Loss: 2.3065056204795837\n",
      "Epoch 2/5\n",
      "Loss: 2.247606670856476\n",
      "Epoch 3/5\n",
      "Loss: 1.9925490617752075\n",
      "Epoch 4/5\n",
      "Loss: 1.4459463596343993\n",
      "Epoch 5/5\n",
      "Loss: 0.6214424446225166\n"
     ]
    }
   ],
   "source": [
    "print(\"Training with data parallelism...\")\n",
    "model_dp = NN()\n",
    "model_dp = nn.DataParallel(model_dp)\n",
    "time_dp = train_model(model_dp, dataloader, device)"
   ]
  },
  {
   "cell_type": "code",
   "execution_count": 30,
   "metadata": {},
   "outputs": [
    {
     "name": "stdout",
     "output_type": "stream",
     "text": [
      "Single GPU: 1.60 seconds\n",
      "Model Parallel: 1.10 seconds\n",
      "Data Parallel: 4.34 seconds\n"
     ]
    }
   ],
   "source": [
    "print(f\"Single GPU: {time_single:.2f} seconds\")\n",
    "print(f\"Model Parallel: {time_mp:.2f} seconds\")\n",
    "print(f\"Data Parallel: {time_dp:.2f} seconds\")"
   ]
  }
 ],
 "metadata": {
  "kernelspec": {
   "display_name": "Python 3",
   "language": "python",
   "name": "python3"
  },
  "language_info": {
   "codemirror_mode": {
    "name": "ipython",
    "version": 3
   },
   "file_extension": ".py",
   "mimetype": "text/x-python",
   "name": "python",
   "nbconvert_exporter": "python",
   "pygments_lexer": "ipython3",
   "version": "3.12.2"
  }
 },
 "nbformat": 4,
 "nbformat_minor": 2
}
