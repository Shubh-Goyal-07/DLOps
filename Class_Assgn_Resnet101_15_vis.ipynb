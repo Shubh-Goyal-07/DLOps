{
  "cells": [
    {
      "cell_type": "markdown",
      "id": "3a99add4-7b7e-482e-8354-1ff6293c8ebb",
      "metadata": {
        "id": "3a99add4-7b7e-482e-8354-1ff6293c8ebb"
      },
      "source": [
        "### Load the model with pretrained weights"
      ]
    },
    {
      "cell_type": "code",
      "execution_count": 1,
      "id": "7f6f094e-efe5-4048-9457-444216500b59",
      "metadata": {
        "id": "7f6f094e-efe5-4048-9457-444216500b59"
      },
      "outputs": [],
      "source": [
        "import torch\n",
        "from torchvision.models import resnet101\n",
        "from torchvision.models import ResNet101_Weights"
      ]
    },
    {
      "cell_type": "code",
      "execution_count": 2,
      "id": "15a4994b-02c1-4752-b3fc-0b734f550e81",
      "metadata": {
        "id": "15a4994b-02c1-4752-b3fc-0b734f550e81"
      },
      "outputs": [],
      "source": [
        "device = 'cuda' if torch.cuda.is_available() else 'cpu'"
      ]
    },
    {
      "cell_type": "code",
      "execution_count": 3,
      "id": "5d252209-a5b6-49cf-bca0-f96321f90e03",
      "metadata": {
        "id": "5d252209-a5b6-49cf-bca0-f96321f90e03"
      },
      "outputs": [],
      "source": [
        "model_resnet101 = resnet101(weights=ResNet101_Weights.IMAGENET1K_V1)\n",
        "model_resnet101 = model_resnet101.to(device)"
      ]
    },
    {
      "cell_type": "markdown",
      "id": "617f1852-1531-4861-8261-5b17935bb79e",
      "metadata": {
        "id": "617f1852-1531-4861-8261-5b17935bb79e"
      },
      "source": [
        "### Model summary"
      ]
    },
    {
      "cell_type": "code",
      "source": [
        "!pip install torchinfo"
      ],
      "metadata": {
        "colab": {
          "base_uri": "https://localhost:8080/"
        },
        "id": "osF-lQkItOXB",
        "outputId": "6679f6e3-6e59-44c8-f0b8-00c6e84ef0d1"
      },
      "id": "osF-lQkItOXB",
      "execution_count": 4,
      "outputs": [
        {
          "output_type": "stream",
          "name": "stdout",
          "text": [
            "Requirement already satisfied: torchinfo in /usr/local/lib/python3.11/dist-packages (1.8.0)\n"
          ]
        }
      ]
    },
    {
      "cell_type": "code",
      "execution_count": 5,
      "id": "2e3e633e-6b39-4138-83ed-ca3f4afc7c3b",
      "metadata": {
        "colab": {
          "base_uri": "https://localhost:8080/"
        },
        "id": "2e3e633e-6b39-4138-83ed-ca3f4afc7c3b",
        "outputId": "f524e658-578c-4be3-e492-bfeda7724985"
      },
      "outputs": [
        {
          "output_type": "execute_result",
          "data": {
            "text/plain": [
              "==========================================================================================\n",
              "Layer (type:depth-idx)                   Output Shape              Param #\n",
              "==========================================================================================\n",
              "ResNet                                   [1, 1000]                 --\n",
              "├─Conv2d: 1-1                            [1, 64, 112, 112]         9,408\n",
              "├─BatchNorm2d: 1-2                       [1, 64, 112, 112]         128\n",
              "├─ReLU: 1-3                              [1, 64, 112, 112]         --\n",
              "├─MaxPool2d: 1-4                         [1, 64, 56, 56]           --\n",
              "├─Sequential: 1-5                        [1, 256, 56, 56]          --\n",
              "│    └─Bottleneck: 2-1                   [1, 256, 56, 56]          --\n",
              "│    │    └─Conv2d: 3-1                  [1, 64, 56, 56]           4,096\n",
              "│    │    └─BatchNorm2d: 3-2             [1, 64, 56, 56]           128\n",
              "│    │    └─ReLU: 3-3                    [1, 64, 56, 56]           --\n",
              "│    │    └─Conv2d: 3-4                  [1, 64, 56, 56]           36,864\n",
              "│    │    └─BatchNorm2d: 3-5             [1, 64, 56, 56]           128\n",
              "│    │    └─ReLU: 3-6                    [1, 64, 56, 56]           --\n",
              "│    │    └─Conv2d: 3-7                  [1, 256, 56, 56]          16,384\n",
              "│    │    └─BatchNorm2d: 3-8             [1, 256, 56, 56]          512\n",
              "│    │    └─Sequential: 3-9              [1, 256, 56, 56]          16,896\n",
              "│    │    └─ReLU: 3-10                   [1, 256, 56, 56]          --\n",
              "│    └─Bottleneck: 2-2                   [1, 256, 56, 56]          --\n",
              "│    │    └─Conv2d: 3-11                 [1, 64, 56, 56]           16,384\n",
              "│    │    └─BatchNorm2d: 3-12            [1, 64, 56, 56]           128\n",
              "│    │    └─ReLU: 3-13                   [1, 64, 56, 56]           --\n",
              "│    │    └─Conv2d: 3-14                 [1, 64, 56, 56]           36,864\n",
              "│    │    └─BatchNorm2d: 3-15            [1, 64, 56, 56]           128\n",
              "│    │    └─ReLU: 3-16                   [1, 64, 56, 56]           --\n",
              "│    │    └─Conv2d: 3-17                 [1, 256, 56, 56]          16,384\n",
              "│    │    └─BatchNorm2d: 3-18            [1, 256, 56, 56]          512\n",
              "│    │    └─ReLU: 3-19                   [1, 256, 56, 56]          --\n",
              "│    └─Bottleneck: 2-3                   [1, 256, 56, 56]          --\n",
              "│    │    └─Conv2d: 3-20                 [1, 64, 56, 56]           16,384\n",
              "│    │    └─BatchNorm2d: 3-21            [1, 64, 56, 56]           128\n",
              "│    │    └─ReLU: 3-22                   [1, 64, 56, 56]           --\n",
              "│    │    └─Conv2d: 3-23                 [1, 64, 56, 56]           36,864\n",
              "│    │    └─BatchNorm2d: 3-24            [1, 64, 56, 56]           128\n",
              "│    │    └─ReLU: 3-25                   [1, 64, 56, 56]           --\n",
              "│    │    └─Conv2d: 3-26                 [1, 256, 56, 56]          16,384\n",
              "│    │    └─BatchNorm2d: 3-27            [1, 256, 56, 56]          512\n",
              "│    │    └─ReLU: 3-28                   [1, 256, 56, 56]          --\n",
              "├─Sequential: 1-6                        [1, 512, 28, 28]          --\n",
              "│    └─Bottleneck: 2-4                   [1, 512, 28, 28]          --\n",
              "│    │    └─Conv2d: 3-29                 [1, 128, 56, 56]          32,768\n",
              "│    │    └─BatchNorm2d: 3-30            [1, 128, 56, 56]          256\n",
              "│    │    └─ReLU: 3-31                   [1, 128, 56, 56]          --\n",
              "│    │    └─Conv2d: 3-32                 [1, 128, 28, 28]          147,456\n",
              "│    │    └─BatchNorm2d: 3-33            [1, 128, 28, 28]          256\n",
              "│    │    └─ReLU: 3-34                   [1, 128, 28, 28]          --\n",
              "│    │    └─Conv2d: 3-35                 [1, 512, 28, 28]          65,536\n",
              "│    │    └─BatchNorm2d: 3-36            [1, 512, 28, 28]          1,024\n",
              "│    │    └─Sequential: 3-37             [1, 512, 28, 28]          132,096\n",
              "│    │    └─ReLU: 3-38                   [1, 512, 28, 28]          --\n",
              "│    └─Bottleneck: 2-5                   [1, 512, 28, 28]          --\n",
              "│    │    └─Conv2d: 3-39                 [1, 128, 28, 28]          65,536\n",
              "│    │    └─BatchNorm2d: 3-40            [1, 128, 28, 28]          256\n",
              "│    │    └─ReLU: 3-41                   [1, 128, 28, 28]          --\n",
              "│    │    └─Conv2d: 3-42                 [1, 128, 28, 28]          147,456\n",
              "│    │    └─BatchNorm2d: 3-43            [1, 128, 28, 28]          256\n",
              "│    │    └─ReLU: 3-44                   [1, 128, 28, 28]          --\n",
              "│    │    └─Conv2d: 3-45                 [1, 512, 28, 28]          65,536\n",
              "│    │    └─BatchNorm2d: 3-46            [1, 512, 28, 28]          1,024\n",
              "│    │    └─ReLU: 3-47                   [1, 512, 28, 28]          --\n",
              "│    └─Bottleneck: 2-6                   [1, 512, 28, 28]          --\n",
              "│    │    └─Conv2d: 3-48                 [1, 128, 28, 28]          65,536\n",
              "│    │    └─BatchNorm2d: 3-49            [1, 128, 28, 28]          256\n",
              "│    │    └─ReLU: 3-50                   [1, 128, 28, 28]          --\n",
              "│    │    └─Conv2d: 3-51                 [1, 128, 28, 28]          147,456\n",
              "│    │    └─BatchNorm2d: 3-52            [1, 128, 28, 28]          256\n",
              "│    │    └─ReLU: 3-53                   [1, 128, 28, 28]          --\n",
              "│    │    └─Conv2d: 3-54                 [1, 512, 28, 28]          65,536\n",
              "│    │    └─BatchNorm2d: 3-55            [1, 512, 28, 28]          1,024\n",
              "│    │    └─ReLU: 3-56                   [1, 512, 28, 28]          --\n",
              "│    └─Bottleneck: 2-7                   [1, 512, 28, 28]          --\n",
              "│    │    └─Conv2d: 3-57                 [1, 128, 28, 28]          65,536\n",
              "│    │    └─BatchNorm2d: 3-58            [1, 128, 28, 28]          256\n",
              "│    │    └─ReLU: 3-59                   [1, 128, 28, 28]          --\n",
              "│    │    └─Conv2d: 3-60                 [1, 128, 28, 28]          147,456\n",
              "│    │    └─BatchNorm2d: 3-61            [1, 128, 28, 28]          256\n",
              "│    │    └─ReLU: 3-62                   [1, 128, 28, 28]          --\n",
              "│    │    └─Conv2d: 3-63                 [1, 512, 28, 28]          65,536\n",
              "│    │    └─BatchNorm2d: 3-64            [1, 512, 28, 28]          1,024\n",
              "│    │    └─ReLU: 3-65                   [1, 512, 28, 28]          --\n",
              "├─Sequential: 1-7                        [1, 1024, 14, 14]         --\n",
              "│    └─Bottleneck: 2-8                   [1, 1024, 14, 14]         --\n",
              "│    │    └─Conv2d: 3-66                 [1, 256, 28, 28]          131,072\n",
              "│    │    └─BatchNorm2d: 3-67            [1, 256, 28, 28]          512\n",
              "│    │    └─ReLU: 3-68                   [1, 256, 28, 28]          --\n",
              "│    │    └─Conv2d: 3-69                 [1, 256, 14, 14]          589,824\n",
              "│    │    └─BatchNorm2d: 3-70            [1, 256, 14, 14]          512\n",
              "│    │    └─ReLU: 3-71                   [1, 256, 14, 14]          --\n",
              "│    │    └─Conv2d: 3-72                 [1, 1024, 14, 14]         262,144\n",
              "│    │    └─BatchNorm2d: 3-73            [1, 1024, 14, 14]         2,048\n",
              "│    │    └─Sequential: 3-74             [1, 1024, 14, 14]         526,336\n",
              "│    │    └─ReLU: 3-75                   [1, 1024, 14, 14]         --\n",
              "│    └─Bottleneck: 2-9                   [1, 1024, 14, 14]         --\n",
              "│    │    └─Conv2d: 3-76                 [1, 256, 14, 14]          262,144\n",
              "│    │    └─BatchNorm2d: 3-77            [1, 256, 14, 14]          512\n",
              "│    │    └─ReLU: 3-78                   [1, 256, 14, 14]          --\n",
              "│    │    └─Conv2d: 3-79                 [1, 256, 14, 14]          589,824\n",
              "│    │    └─BatchNorm2d: 3-80            [1, 256, 14, 14]          512\n",
              "│    │    └─ReLU: 3-81                   [1, 256, 14, 14]          --\n",
              "│    │    └─Conv2d: 3-82                 [1, 1024, 14, 14]         262,144\n",
              "│    │    └─BatchNorm2d: 3-83            [1, 1024, 14, 14]         2,048\n",
              "│    │    └─ReLU: 3-84                   [1, 1024, 14, 14]         --\n",
              "│    └─Bottleneck: 2-10                  [1, 1024, 14, 14]         --\n",
              "│    │    └─Conv2d: 3-85                 [1, 256, 14, 14]          262,144\n",
              "│    │    └─BatchNorm2d: 3-86            [1, 256, 14, 14]          512\n",
              "│    │    └─ReLU: 3-87                   [1, 256, 14, 14]          --\n",
              "│    │    └─Conv2d: 3-88                 [1, 256, 14, 14]          589,824\n",
              "│    │    └─BatchNorm2d: 3-89            [1, 256, 14, 14]          512\n",
              "│    │    └─ReLU: 3-90                   [1, 256, 14, 14]          --\n",
              "│    │    └─Conv2d: 3-91                 [1, 1024, 14, 14]         262,144\n",
              "│    │    └─BatchNorm2d: 3-92            [1, 1024, 14, 14]         2,048\n",
              "│    │    └─ReLU: 3-93                   [1, 1024, 14, 14]         --\n",
              "│    └─Bottleneck: 2-11                  [1, 1024, 14, 14]         --\n",
              "│    │    └─Conv2d: 3-94                 [1, 256, 14, 14]          262,144\n",
              "│    │    └─BatchNorm2d: 3-95            [1, 256, 14, 14]          512\n",
              "│    │    └─ReLU: 3-96                   [1, 256, 14, 14]          --\n",
              "│    │    └─Conv2d: 3-97                 [1, 256, 14, 14]          589,824\n",
              "│    │    └─BatchNorm2d: 3-98            [1, 256, 14, 14]          512\n",
              "│    │    └─ReLU: 3-99                   [1, 256, 14, 14]          --\n",
              "│    │    └─Conv2d: 3-100                [1, 1024, 14, 14]         262,144\n",
              "│    │    └─BatchNorm2d: 3-101           [1, 1024, 14, 14]         2,048\n",
              "│    │    └─ReLU: 3-102                  [1, 1024, 14, 14]         --\n",
              "│    └─Bottleneck: 2-12                  [1, 1024, 14, 14]         --\n",
              "│    │    └─Conv2d: 3-103                [1, 256, 14, 14]          262,144\n",
              "│    │    └─BatchNorm2d: 3-104           [1, 256, 14, 14]          512\n",
              "│    │    └─ReLU: 3-105                  [1, 256, 14, 14]          --\n",
              "│    │    └─Conv2d: 3-106                [1, 256, 14, 14]          589,824\n",
              "│    │    └─BatchNorm2d: 3-107           [1, 256, 14, 14]          512\n",
              "│    │    └─ReLU: 3-108                  [1, 256, 14, 14]          --\n",
              "│    │    └─Conv2d: 3-109                [1, 1024, 14, 14]         262,144\n",
              "│    │    └─BatchNorm2d: 3-110           [1, 1024, 14, 14]         2,048\n",
              "│    │    └─ReLU: 3-111                  [1, 1024, 14, 14]         --\n",
              "│    └─Bottleneck: 2-13                  [1, 1024, 14, 14]         --\n",
              "│    │    └─Conv2d: 3-112                [1, 256, 14, 14]          262,144\n",
              "│    │    └─BatchNorm2d: 3-113           [1, 256, 14, 14]          512\n",
              "│    │    └─ReLU: 3-114                  [1, 256, 14, 14]          --\n",
              "│    │    └─Conv2d: 3-115                [1, 256, 14, 14]          589,824\n",
              "│    │    └─BatchNorm2d: 3-116           [1, 256, 14, 14]          512\n",
              "│    │    └─ReLU: 3-117                  [1, 256, 14, 14]          --\n",
              "│    │    └─Conv2d: 3-118                [1, 1024, 14, 14]         262,144\n",
              "│    │    └─BatchNorm2d: 3-119           [1, 1024, 14, 14]         2,048\n",
              "│    │    └─ReLU: 3-120                  [1, 1024, 14, 14]         --\n",
              "│    └─Bottleneck: 2-14                  [1, 1024, 14, 14]         --\n",
              "│    │    └─Conv2d: 3-121                [1, 256, 14, 14]          262,144\n",
              "│    │    └─BatchNorm2d: 3-122           [1, 256, 14, 14]          512\n",
              "│    │    └─ReLU: 3-123                  [1, 256, 14, 14]          --\n",
              "│    │    └─Conv2d: 3-124                [1, 256, 14, 14]          589,824\n",
              "│    │    └─BatchNorm2d: 3-125           [1, 256, 14, 14]          512\n",
              "│    │    └─ReLU: 3-126                  [1, 256, 14, 14]          --\n",
              "│    │    └─Conv2d: 3-127                [1, 1024, 14, 14]         262,144\n",
              "│    │    └─BatchNorm2d: 3-128           [1, 1024, 14, 14]         2,048\n",
              "│    │    └─ReLU: 3-129                  [1, 1024, 14, 14]         --\n",
              "│    └─Bottleneck: 2-15                  [1, 1024, 14, 14]         --\n",
              "│    │    └─Conv2d: 3-130                [1, 256, 14, 14]          262,144\n",
              "│    │    └─BatchNorm2d: 3-131           [1, 256, 14, 14]          512\n",
              "│    │    └─ReLU: 3-132                  [1, 256, 14, 14]          --\n",
              "│    │    └─Conv2d: 3-133                [1, 256, 14, 14]          589,824\n",
              "│    │    └─BatchNorm2d: 3-134           [1, 256, 14, 14]          512\n",
              "│    │    └─ReLU: 3-135                  [1, 256, 14, 14]          --\n",
              "│    │    └─Conv2d: 3-136                [1, 1024, 14, 14]         262,144\n",
              "│    │    └─BatchNorm2d: 3-137           [1, 1024, 14, 14]         2,048\n",
              "│    │    └─ReLU: 3-138                  [1, 1024, 14, 14]         --\n",
              "│    └─Bottleneck: 2-16                  [1, 1024, 14, 14]         --\n",
              "│    │    └─Conv2d: 3-139                [1, 256, 14, 14]          262,144\n",
              "│    │    └─BatchNorm2d: 3-140           [1, 256, 14, 14]          512\n",
              "│    │    └─ReLU: 3-141                  [1, 256, 14, 14]          --\n",
              "│    │    └─Conv2d: 3-142                [1, 256, 14, 14]          589,824\n",
              "│    │    └─BatchNorm2d: 3-143           [1, 256, 14, 14]          512\n",
              "│    │    └─ReLU: 3-144                  [1, 256, 14, 14]          --\n",
              "│    │    └─Conv2d: 3-145                [1, 1024, 14, 14]         262,144\n",
              "│    │    └─BatchNorm2d: 3-146           [1, 1024, 14, 14]         2,048\n",
              "│    │    └─ReLU: 3-147                  [1, 1024, 14, 14]         --\n",
              "│    └─Bottleneck: 2-17                  [1, 1024, 14, 14]         --\n",
              "│    │    └─Conv2d: 3-148                [1, 256, 14, 14]          262,144\n",
              "│    │    └─BatchNorm2d: 3-149           [1, 256, 14, 14]          512\n",
              "│    │    └─ReLU: 3-150                  [1, 256, 14, 14]          --\n",
              "│    │    └─Conv2d: 3-151                [1, 256, 14, 14]          589,824\n",
              "│    │    └─BatchNorm2d: 3-152           [1, 256, 14, 14]          512\n",
              "│    │    └─ReLU: 3-153                  [1, 256, 14, 14]          --\n",
              "│    │    └─Conv2d: 3-154                [1, 1024, 14, 14]         262,144\n",
              "│    │    └─BatchNorm2d: 3-155           [1, 1024, 14, 14]         2,048\n",
              "│    │    └─ReLU: 3-156                  [1, 1024, 14, 14]         --\n",
              "│    └─Bottleneck: 2-18                  [1, 1024, 14, 14]         --\n",
              "│    │    └─Conv2d: 3-157                [1, 256, 14, 14]          262,144\n",
              "│    │    └─BatchNorm2d: 3-158           [1, 256, 14, 14]          512\n",
              "│    │    └─ReLU: 3-159                  [1, 256, 14, 14]          --\n",
              "│    │    └─Conv2d: 3-160                [1, 256, 14, 14]          589,824\n",
              "│    │    └─BatchNorm2d: 3-161           [1, 256, 14, 14]          512\n",
              "│    │    └─ReLU: 3-162                  [1, 256, 14, 14]          --\n",
              "│    │    └─Conv2d: 3-163                [1, 1024, 14, 14]         262,144\n",
              "│    │    └─BatchNorm2d: 3-164           [1, 1024, 14, 14]         2,048\n",
              "│    │    └─ReLU: 3-165                  [1, 1024, 14, 14]         --\n",
              "│    └─Bottleneck: 2-19                  [1, 1024, 14, 14]         --\n",
              "│    │    └─Conv2d: 3-166                [1, 256, 14, 14]          262,144\n",
              "│    │    └─BatchNorm2d: 3-167           [1, 256, 14, 14]          512\n",
              "│    │    └─ReLU: 3-168                  [1, 256, 14, 14]          --\n",
              "│    │    └─Conv2d: 3-169                [1, 256, 14, 14]          589,824\n",
              "│    │    └─BatchNorm2d: 3-170           [1, 256, 14, 14]          512\n",
              "│    │    └─ReLU: 3-171                  [1, 256, 14, 14]          --\n",
              "│    │    └─Conv2d: 3-172                [1, 1024, 14, 14]         262,144\n",
              "│    │    └─BatchNorm2d: 3-173           [1, 1024, 14, 14]         2,048\n",
              "│    │    └─ReLU: 3-174                  [1, 1024, 14, 14]         --\n",
              "│    └─Bottleneck: 2-20                  [1, 1024, 14, 14]         --\n",
              "│    │    └─Conv2d: 3-175                [1, 256, 14, 14]          262,144\n",
              "│    │    └─BatchNorm2d: 3-176           [1, 256, 14, 14]          512\n",
              "│    │    └─ReLU: 3-177                  [1, 256, 14, 14]          --\n",
              "│    │    └─Conv2d: 3-178                [1, 256, 14, 14]          589,824\n",
              "│    │    └─BatchNorm2d: 3-179           [1, 256, 14, 14]          512\n",
              "│    │    └─ReLU: 3-180                  [1, 256, 14, 14]          --\n",
              "│    │    └─Conv2d: 3-181                [1, 1024, 14, 14]         262,144\n",
              "│    │    └─BatchNorm2d: 3-182           [1, 1024, 14, 14]         2,048\n",
              "│    │    └─ReLU: 3-183                  [1, 1024, 14, 14]         --\n",
              "│    └─Bottleneck: 2-21                  [1, 1024, 14, 14]         --\n",
              "│    │    └─Conv2d: 3-184                [1, 256, 14, 14]          262,144\n",
              "│    │    └─BatchNorm2d: 3-185           [1, 256, 14, 14]          512\n",
              "│    │    └─ReLU: 3-186                  [1, 256, 14, 14]          --\n",
              "│    │    └─Conv2d: 3-187                [1, 256, 14, 14]          589,824\n",
              "│    │    └─BatchNorm2d: 3-188           [1, 256, 14, 14]          512\n",
              "│    │    └─ReLU: 3-189                  [1, 256, 14, 14]          --\n",
              "│    │    └─Conv2d: 3-190                [1, 1024, 14, 14]         262,144\n",
              "│    │    └─BatchNorm2d: 3-191           [1, 1024, 14, 14]         2,048\n",
              "│    │    └─ReLU: 3-192                  [1, 1024, 14, 14]         --\n",
              "│    └─Bottleneck: 2-22                  [1, 1024, 14, 14]         --\n",
              "│    │    └─Conv2d: 3-193                [1, 256, 14, 14]          262,144\n",
              "│    │    └─BatchNorm2d: 3-194           [1, 256, 14, 14]          512\n",
              "│    │    └─ReLU: 3-195                  [1, 256, 14, 14]          --\n",
              "│    │    └─Conv2d: 3-196                [1, 256, 14, 14]          589,824\n",
              "│    │    └─BatchNorm2d: 3-197           [1, 256, 14, 14]          512\n",
              "│    │    └─ReLU: 3-198                  [1, 256, 14, 14]          --\n",
              "│    │    └─Conv2d: 3-199                [1, 1024, 14, 14]         262,144\n",
              "│    │    └─BatchNorm2d: 3-200           [1, 1024, 14, 14]         2,048\n",
              "│    │    └─ReLU: 3-201                  [1, 1024, 14, 14]         --\n",
              "│    └─Bottleneck: 2-23                  [1, 1024, 14, 14]         --\n",
              "│    │    └─Conv2d: 3-202                [1, 256, 14, 14]          262,144\n",
              "│    │    └─BatchNorm2d: 3-203           [1, 256, 14, 14]          512\n",
              "│    │    └─ReLU: 3-204                  [1, 256, 14, 14]          --\n",
              "│    │    └─Conv2d: 3-205                [1, 256, 14, 14]          589,824\n",
              "│    │    └─BatchNorm2d: 3-206           [1, 256, 14, 14]          512\n",
              "│    │    └─ReLU: 3-207                  [1, 256, 14, 14]          --\n",
              "│    │    └─Conv2d: 3-208                [1, 1024, 14, 14]         262,144\n",
              "│    │    └─BatchNorm2d: 3-209           [1, 1024, 14, 14]         2,048\n",
              "│    │    └─ReLU: 3-210                  [1, 1024, 14, 14]         --\n",
              "│    └─Bottleneck: 2-24                  [1, 1024, 14, 14]         --\n",
              "│    │    └─Conv2d: 3-211                [1, 256, 14, 14]          262,144\n",
              "│    │    └─BatchNorm2d: 3-212           [1, 256, 14, 14]          512\n",
              "│    │    └─ReLU: 3-213                  [1, 256, 14, 14]          --\n",
              "│    │    └─Conv2d: 3-214                [1, 256, 14, 14]          589,824\n",
              "│    │    └─BatchNorm2d: 3-215           [1, 256, 14, 14]          512\n",
              "│    │    └─ReLU: 3-216                  [1, 256, 14, 14]          --\n",
              "│    │    └─Conv2d: 3-217                [1, 1024, 14, 14]         262,144\n",
              "│    │    └─BatchNorm2d: 3-218           [1, 1024, 14, 14]         2,048\n",
              "│    │    └─ReLU: 3-219                  [1, 1024, 14, 14]         --\n",
              "│    └─Bottleneck: 2-25                  [1, 1024, 14, 14]         --\n",
              "│    │    └─Conv2d: 3-220                [1, 256, 14, 14]          262,144\n",
              "│    │    └─BatchNorm2d: 3-221           [1, 256, 14, 14]          512\n",
              "│    │    └─ReLU: 3-222                  [1, 256, 14, 14]          --\n",
              "│    │    └─Conv2d: 3-223                [1, 256, 14, 14]          589,824\n",
              "│    │    └─BatchNorm2d: 3-224           [1, 256, 14, 14]          512\n",
              "│    │    └─ReLU: 3-225                  [1, 256, 14, 14]          --\n",
              "│    │    └─Conv2d: 3-226                [1, 1024, 14, 14]         262,144\n",
              "│    │    └─BatchNorm2d: 3-227           [1, 1024, 14, 14]         2,048\n",
              "│    │    └─ReLU: 3-228                  [1, 1024, 14, 14]         --\n",
              "│    └─Bottleneck: 2-26                  [1, 1024, 14, 14]         --\n",
              "│    │    └─Conv2d: 3-229                [1, 256, 14, 14]          262,144\n",
              "│    │    └─BatchNorm2d: 3-230           [1, 256, 14, 14]          512\n",
              "│    │    └─ReLU: 3-231                  [1, 256, 14, 14]          --\n",
              "│    │    └─Conv2d: 3-232                [1, 256, 14, 14]          589,824\n",
              "│    │    └─BatchNorm2d: 3-233           [1, 256, 14, 14]          512\n",
              "│    │    └─ReLU: 3-234                  [1, 256, 14, 14]          --\n",
              "│    │    └─Conv2d: 3-235                [1, 1024, 14, 14]         262,144\n",
              "│    │    └─BatchNorm2d: 3-236           [1, 1024, 14, 14]         2,048\n",
              "│    │    └─ReLU: 3-237                  [1, 1024, 14, 14]         --\n",
              "│    └─Bottleneck: 2-27                  [1, 1024, 14, 14]         --\n",
              "│    │    └─Conv2d: 3-238                [1, 256, 14, 14]          262,144\n",
              "│    │    └─BatchNorm2d: 3-239           [1, 256, 14, 14]          512\n",
              "│    │    └─ReLU: 3-240                  [1, 256, 14, 14]          --\n",
              "│    │    └─Conv2d: 3-241                [1, 256, 14, 14]          589,824\n",
              "│    │    └─BatchNorm2d: 3-242           [1, 256, 14, 14]          512\n",
              "│    │    └─ReLU: 3-243                  [1, 256, 14, 14]          --\n",
              "│    │    └─Conv2d: 3-244                [1, 1024, 14, 14]         262,144\n",
              "│    │    └─BatchNorm2d: 3-245           [1, 1024, 14, 14]         2,048\n",
              "│    │    └─ReLU: 3-246                  [1, 1024, 14, 14]         --\n",
              "│    └─Bottleneck: 2-28                  [1, 1024, 14, 14]         --\n",
              "│    │    └─Conv2d: 3-247                [1, 256, 14, 14]          262,144\n",
              "│    │    └─BatchNorm2d: 3-248           [1, 256, 14, 14]          512\n",
              "│    │    └─ReLU: 3-249                  [1, 256, 14, 14]          --\n",
              "│    │    └─Conv2d: 3-250                [1, 256, 14, 14]          589,824\n",
              "│    │    └─BatchNorm2d: 3-251           [1, 256, 14, 14]          512\n",
              "│    │    └─ReLU: 3-252                  [1, 256, 14, 14]          --\n",
              "│    │    └─Conv2d: 3-253                [1, 1024, 14, 14]         262,144\n",
              "│    │    └─BatchNorm2d: 3-254           [1, 1024, 14, 14]         2,048\n",
              "│    │    └─ReLU: 3-255                  [1, 1024, 14, 14]         --\n",
              "│    └─Bottleneck: 2-29                  [1, 1024, 14, 14]         --\n",
              "│    │    └─Conv2d: 3-256                [1, 256, 14, 14]          262,144\n",
              "│    │    └─BatchNorm2d: 3-257           [1, 256, 14, 14]          512\n",
              "│    │    └─ReLU: 3-258                  [1, 256, 14, 14]          --\n",
              "│    │    └─Conv2d: 3-259                [1, 256, 14, 14]          589,824\n",
              "│    │    └─BatchNorm2d: 3-260           [1, 256, 14, 14]          512\n",
              "│    │    └─ReLU: 3-261                  [1, 256, 14, 14]          --\n",
              "│    │    └─Conv2d: 3-262                [1, 1024, 14, 14]         262,144\n",
              "│    │    └─BatchNorm2d: 3-263           [1, 1024, 14, 14]         2,048\n",
              "│    │    └─ReLU: 3-264                  [1, 1024, 14, 14]         --\n",
              "│    └─Bottleneck: 2-30                  [1, 1024, 14, 14]         --\n",
              "│    │    └─Conv2d: 3-265                [1, 256, 14, 14]          262,144\n",
              "│    │    └─BatchNorm2d: 3-266           [1, 256, 14, 14]          512\n",
              "│    │    └─ReLU: 3-267                  [1, 256, 14, 14]          --\n",
              "│    │    └─Conv2d: 3-268                [1, 256, 14, 14]          589,824\n",
              "│    │    └─BatchNorm2d: 3-269           [1, 256, 14, 14]          512\n",
              "│    │    └─ReLU: 3-270                  [1, 256, 14, 14]          --\n",
              "│    │    └─Conv2d: 3-271                [1, 1024, 14, 14]         262,144\n",
              "│    │    └─BatchNorm2d: 3-272           [1, 1024, 14, 14]         2,048\n",
              "│    │    └─ReLU: 3-273                  [1, 1024, 14, 14]         --\n",
              "├─Sequential: 1-8                        [1, 2048, 7, 7]           --\n",
              "│    └─Bottleneck: 2-31                  [1, 2048, 7, 7]           --\n",
              "│    │    └─Conv2d: 3-274                [1, 512, 14, 14]          524,288\n",
              "│    │    └─BatchNorm2d: 3-275           [1, 512, 14, 14]          1,024\n",
              "│    │    └─ReLU: 3-276                  [1, 512, 14, 14]          --\n",
              "│    │    └─Conv2d: 3-277                [1, 512, 7, 7]            2,359,296\n",
              "│    │    └─BatchNorm2d: 3-278           [1, 512, 7, 7]            1,024\n",
              "│    │    └─ReLU: 3-279                  [1, 512, 7, 7]            --\n",
              "│    │    └─Conv2d: 3-280                [1, 2048, 7, 7]           1,048,576\n",
              "│    │    └─BatchNorm2d: 3-281           [1, 2048, 7, 7]           4,096\n",
              "│    │    └─Sequential: 3-282            [1, 2048, 7, 7]           2,101,248\n",
              "│    │    └─ReLU: 3-283                  [1, 2048, 7, 7]           --\n",
              "│    └─Bottleneck: 2-32                  [1, 2048, 7, 7]           --\n",
              "│    │    └─Conv2d: 3-284                [1, 512, 7, 7]            1,048,576\n",
              "│    │    └─BatchNorm2d: 3-285           [1, 512, 7, 7]            1,024\n",
              "│    │    └─ReLU: 3-286                  [1, 512, 7, 7]            --\n",
              "│    │    └─Conv2d: 3-287                [1, 512, 7, 7]            2,359,296\n",
              "│    │    └─BatchNorm2d: 3-288           [1, 512, 7, 7]            1,024\n",
              "│    │    └─ReLU: 3-289                  [1, 512, 7, 7]            --\n",
              "│    │    └─Conv2d: 3-290                [1, 2048, 7, 7]           1,048,576\n",
              "│    │    └─BatchNorm2d: 3-291           [1, 2048, 7, 7]           4,096\n",
              "│    │    └─ReLU: 3-292                  [1, 2048, 7, 7]           --\n",
              "│    └─Bottleneck: 2-33                  [1, 2048, 7, 7]           --\n",
              "│    │    └─Conv2d: 3-293                [1, 512, 7, 7]            1,048,576\n",
              "│    │    └─BatchNorm2d: 3-294           [1, 512, 7, 7]            1,024\n",
              "│    │    └─ReLU: 3-295                  [1, 512, 7, 7]            --\n",
              "│    │    └─Conv2d: 3-296                [1, 512, 7, 7]            2,359,296\n",
              "│    │    └─BatchNorm2d: 3-297           [1, 512, 7, 7]            1,024\n",
              "│    │    └─ReLU: 3-298                  [1, 512, 7, 7]            --\n",
              "│    │    └─Conv2d: 3-299                [1, 2048, 7, 7]           1,048,576\n",
              "│    │    └─BatchNorm2d: 3-300           [1, 2048, 7, 7]           4,096\n",
              "│    │    └─ReLU: 3-301                  [1, 2048, 7, 7]           --\n",
              "├─AdaptiveAvgPool2d: 1-9                 [1, 2048, 1, 1]           --\n",
              "├─Linear: 1-10                           [1, 1000]                 2,049,000\n",
              "==========================================================================================\n",
              "Total params: 44,549,160\n",
              "Trainable params: 44,549,160\n",
              "Non-trainable params: 0\n",
              "Total mult-adds (Units.GIGABYTES): 7.80\n",
              "==========================================================================================\n",
              "Input size (MB): 0.60\n",
              "Forward/backward pass size (MB): 259.72\n",
              "Params size (MB): 178.20\n",
              "Estimated Total Size (MB): 438.52\n",
              "=========================================================================================="
            ]
          },
          "metadata": {},
          "execution_count": 5
        }
      ],
      "source": [
        "from torchinfo import summary\n",
        "summary(model=model_resnet101, input_size=(1, 3, 224, 224))"
      ]
    },
    {
      "cell_type": "markdown",
      "id": "b09a5929-ff56-464a-a88f-9c93f0d6c10f",
      "metadata": {
        "id": "b09a5929-ff56-464a-a88f-9c93f0d6c10f"
      },
      "source": [
        "### Image and Visualization"
      ]
    },
    {
      "cell_type": "code",
      "execution_count": 13,
      "id": "9bdffd8b-3c6b-4186-9b0c-d21e0699de7a",
      "metadata": {
        "id": "9bdffd8b-3c6b-4186-9b0c-d21e0699de7a"
      },
      "outputs": [],
      "source": [
        "import torchvision.transforms as transforms\n",
        "import matplotlib.pyplot as plt\n",
        "\n",
        "def vis_plain(layer_num, img, model, device):\n",
        "\n",
        "    # transforms\n",
        "    transforms_imagenet = transforms.Compose([transforms.Resize(256),\n",
        "                                              transforms.CenterCrop(224),\n",
        "                                              transforms.ToTensor(),\n",
        "                                              transforms.Normalize(mean=(0.485, 0.456, 0.406),\n",
        "                                                                   std=(0.229, 0.224, 0.225))])\n",
        "    img = transforms_imagenet(img).unsqueeze_(dim=0)\n",
        "\n",
        "    # device-agnostic\n",
        "    model = model.to(device)\n",
        "    img = img.to(device)\n",
        "\n",
        "    # Hook function\n",
        "    feature_maps = []\n",
        "    def hook_fn(module, input, output):\n",
        "        feature_maps.append(output)\n",
        "\n",
        "    layer = dict(model_resnet101.layer3.named_modules())['']._modules['15'].conv1\n",
        "    handle = layer.register_forward_hook(hook_fn)\n",
        "\n",
        "    # Forward pass the image through the model\n",
        "    model.eval()\n",
        "    with torch.inference_mode():\n",
        "        preds = model(img)\n",
        "\n",
        "    pred_cls_idx = preds.argmax(dim=1)\n",
        "    print(f\"Predicted class id : {pred_cls_idx}\")\n",
        "\n",
        "    feature_map = feature_maps[0]\n",
        "    print(f\"Feature Map shape : {feature_map.shape}\")\n",
        "\n",
        "    # Plot the feature maps\n",
        "    layer_output = feature_map.squeeze()\n",
        "    rows, cols = 3, 5\n",
        "    fig = plt.figure(figsize=(15, 9))\n",
        "    for i in range(1, (rows * cols) + 1):\n",
        "        feature_map = layer_output[i-1, :, :].cpu().numpy()\n",
        "        fig.add_subplot(rows, cols, i)\n",
        "        plt.imshow(feature_map, cmap='viridis')\n",
        "        # plt.tight_layout()\n",
        "        plt.axis(False)"
      ]
    },
    {
      "cell_type": "code",
      "execution_count": 14,
      "id": "501de34b-7269-40b0-8233-34100868996f",
      "metadata": {
        "colab": {
          "base_uri": "https://localhost:8080/",
          "height": 451
        },
        "id": "501de34b-7269-40b0-8233-34100868996f",
        "outputId": "b4569314-f024-40d9-836a-cd43d4b7e8f5"
      },
      "outputs": [
        {
          "output_type": "execute_result",
          "data": {
            "text/plain": [
              "<matplotlib.image.AxesImage at 0x7c55749ae710>"
            ]
          },
          "metadata": {},
          "execution_count": 14
        },
        {
          "output_type": "display_data",
          "data": {
            "text/plain": [
              "<Figure size 640x480 with 1 Axes>"
            ],
            "image/png": "[encoded data removed]"
          },
          "metadata": {}
        }
      ],
      "source": [
        "import PIL.Image as Image\n",
        "\n",
        "# Using a car image downloaded from the test set of STL-10\n",
        "# https://www.kaggle.com/datasets/jessicali9530/stl10\n",
        "img_car = Image.open(\"./car.png\")\n",
        "\n",
        "device = 'cuda' if torch.cuda.is_available() else 'cpu'\n",
        "\n",
        "plt.imshow(img_car)"
      ]
    },
    {
      "cell_type": "code",
      "source": [
        "vis_plain(10, img_car, model_resnet101, device)"
      ],
      "metadata": {
        "colab": {
          "base_uri": "https://localhost:8080/",
          "height": 763
        },
        "id": "2Jy3q5VE-vz3",
        "outputId": "94912396-1b2a-43e9-d844-4fa5c5f4f6c5"
      },
      "id": "2Jy3q5VE-vz3",
      "execution_count": 15,
      "outputs": [
        {
          "output_type": "stream",
          "name": "stdout",
          "text": [
            "Predicted class id : tensor([817], device='cuda:0')\n",
            "Feature Map shape : torch.Size([1, 256, 14, 14])\n"
          ]
        },
        {
          "output_type": "display_data",
          "data": {
            "text/plain": [
              "<Figure size 1500x900 with 15 Axes>"
            ],
            "image/png": "[encoded data removed]"
          },
          "metadata": {}
        }
      ]
    }
  ],
  "metadata": {
    "kernelspec": {
      "display_name": "Python 3",
      "name": "python3"
    },
    "language_info": {
      "codemirror_mode": {
        "name": "ipython",
        "version": 3
      },
      "file_extension": ".py",
      "mimetype": "text/x-python",
      "name": "python",
      "nbconvert_exporter": "python",
      "pygments_lexer": "ipython3",
      "version": "3.10.9"
    },
    "colab": {
      "provenance": [],
      "gpuType": "T4",
      "collapsed_sections": [
        "3a99add4-7b7e-482e-8354-1ff6293c8ebb",
        "617f1852-1531-4861-8261-5b17935bb79e"
      ]
    },
    "accelerator": "GPU"
  },
  "nbformat": 4,
  "nbformat_minor": 5
}